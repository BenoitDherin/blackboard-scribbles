{
 "metadata": {
  "name": ""
 },
 "nbformat": 3,
 "nbformat_minor": 0,
 "worksheets": [
  {
   "cells": [
    {
     "cell_type": "markdown",
     "metadata": {},
     "source": [
      "**Concept I: Programming with Data**\n",
      "\n",
      "* Introduction to the command line\n",
      "* Command input and output\n",
      "* Functional programming\n",
      "* Object Oriented programming\n",
      "* Database programming\n",
      "* Web programming"
     ]
    },
    {
     "cell_type": "markdown",
     "metadata": {},
     "source": [
      "Roughly, a computer is made out to components: datas and computing power, as illustrated in the figure below."
     ]
    },
    {
     "cell_type": "markdown",
     "metadata": {},
     "source": [
      "FIGURE: DATA AND COMPUTING POWER"
     ]
    },
    {
     "cell_type": "heading",
     "level": 2,
     "metadata": {},
     "source": [
      "Data files and program files"
     ]
    },
    {
     "cell_type": "markdown",
     "metadata": {},
     "source": [
      "One accesses\n",
      "\n",
      "* the computing power of the computer by launching programs\n",
      "* the data stored on the computer by opening files and reading their content\n",
      "\n",
      "In Unix, both programs and data are stored in regular files. Files can be\n",
      "\n",
      "* read (r)\n",
      "* written (w)\n",
      "* executed (x)\n",
      "\n",
      "r (read), w (write), x (execute) are the file **permissions**. They depend on both the file and the user. Not all users have the same access rigths (i.e. not every user is allowed to execute or read a certain file; file access is controlled by the Unix permission system) to a given file (we will come back to that later in more details).\n",
      "\n",
      "Of course, the \"execute\" (x) permission makes sense only if the file is a program. There are two main types of program files:\n",
      "\n",
      "* **binary files:** the intructions to be carried out by the computer are written in the form of 0 and 1, that is, in **machine language,** which the computer can understand directly\n",
      "\n",
      "* **text files:** the instructions to be carried out by the computer are written in a simplified form of the english language, called a **script** or a **scripting language**; the computer does not understand these instructions directly and needs a special program, called an **interpreter**, to translate them so that it can execute them. \n",
      "\n",
      "\n",
      "In this course, we will study three interpreters using three different scripting languages: the **Bash interpreter**, the **Python interpreter**, and the **R interpreter**. Each interpreter has its strenghts and weaknesses:\n",
      "\n",
      "* Bash is very good at manipulating files stored on Unix machines\n",
      "* R is very good at statiscal analysis\n",
      "* Python is a very good at performing general programmation tasks, including file manipulations and data analysis\n",
      "\n",
      "Interpreters are also called **shells**, although the word \"shell\" may be reserved to interpreters that are especially designed to interact with the computer filesystem (such as bash, ash, bsh, csh, kzh, zsh, etc.).\n",
      "\n",
      "Python is the prefered scripting language for data analysis in the industry, while R is prevalent in the academic world.\n",
      "\n",
      "Interpreters can be used in two ways:\n",
      "\n",
      "* **batch mode:** one writes a script in a certain scripting language (such as Bash, python, or R) and feeds the interprester with the file containing the script; then the instructions contained in the file are carried out, all at once, by the interpreter.\n",
      "\n",
      "* **interactive mode:** one launches the interpreter (which is itself a program) without any instruction file; then the interpreter waits for the user to enter instructions interactively, one at a time, in a **terminal**. "
     ]
    },
    {
     "cell_type": "heading",
     "level": 2,
     "metadata": {},
     "source": [
      "Filesystems, Windowing Systems, and Terminals"
     ]
    },
    {
     "cell_type": "markdown",
     "metadata": {},
     "source": [
      "Usually, program launching and file access is done through a **Graphical User Interface** (**GUI** for short), called a a **Windowing System**). The GUI presents the user with windows representing folders, which themselves contain a certain number of subfolders and files. This is a graphical representation of the **filesystem** that organizes the data stored in the computer. \n",
      "\n",
      "Mathematically, a filestem is represented by a **rooted tree**, which is a special type of ** network** or **graph**. Here are the corresponding formal mathematical definitions: "
     ]
    },
    {
     "cell_type": "markdown",
     "metadata": {},
     "source": [
      "> **Definition:** A **network** (or **graph**) $(V,E)$ is the data of set $V$ of **nodes** (or **vertices**) and a set $E\\subset V\\times V$ of **links** (or **edges**).\n",
      "\n",
      ">**Definition:** Recall that the **cartesian product** of two sets $A$ and $B$ is the set $A\\times B$ of all **ordered pairs** $(a,b)$, where $a\\in A$ and $b\\in B$.\n",
      "\n",
      "Graphically, one represents a node $v\\in V$ as point and a link $(v_1,v_2)\\in E$ as an arrow from the node $v_1$ to the node $v_2$, as in the following figure:"
     ]
    },
    {
     "cell_type": "markdown",
     "metadata": {},
     "source": [
      "FIGURE: A graph\n"
     ]
    },
    {
     "cell_type": "markdown",
     "metadata": {},
     "source": [
      ">**Definition:** A **path** in a network $(V,E)$ is a sequence of nodes $v_1,v_2,\\dots,v_n$ in $V$ having links between them (all in the same direction). \n",
      "\n",
      ">**Definition:** A **cycle** is a path whose first node coincides with the last node.\n",
      "\n",
      ">**Definition:** An **initial node** is a node with no other node with a link to it.\n",
      "\n",
      ">**Definition:** A **terminal node** or **leaf** is a node with no link from it.\n",
      "\n",
      ">**Definition:** A **roteed tree** is a network \n",
      "\n",
      ">* with no cycles\n",
      ">* with a single initial node, called the root \n",
      ">* with all links pointing away from the root\n"
     ]
    },
    {
     "cell_type": "markdown",
     "metadata": {},
     "source": [
      "FIGURE: examples of trees"
     ]
    },
    {
     "cell_type": "markdown",
     "metadata": {},
     "source": [
      "The root of a filesystem is the folder (or directory) representing the **harddrive**, which oftentimes is represented by the icon of a harddrive by the Windowing System. The nodes of a filesystem are all the files and directories that you can access from the harddrive icon (i.e., from the filesystem root). The terminal nodes are the actual files stored on the computer. The other nodes (the ones that are not the root nor terminal nodes) are the folders or directories. There is a link between from folder $A$ and folder $B$ if folder $B$ is a subfolder of folder $A$. \n",
      "\n",
      "\n",
      "Here is a picture to better illustrate the situation:"
     ]
    },
    {
     "cell_type": "markdown",
     "metadata": {},
     "source": [
      "FIGURE: a filesystem as a tree"
     ]
    },
    {
     "cell_type": "markdown",
     "metadata": {},
     "source": [
      "In Unix, directories are special types of files (they are files containing the list of all the subdirectories and files they contain). There are two main ways to access the filesystem:\n",
      "\n",
      "* Through the Windowing System, as you are used to\n",
      "* Through a terminal (also called the **command line**), which you may be less familiar with\n",
      "\n",
      "Windowing Systems are easy to use, but they are not powerful. On the other hand, terminals are harder to get accustomed to but are extremely powerful, especially for repeated tasks involving a large amount of data.\n",
      "\n",
      "Our first step in this class will be to learn how to use the terminal and the command line, which is nothing but the Bash interpreter, run in interactive mode.\n",
      "\n",
      "It is a good place now to watch the following video to get you started with the terminal and to get a more concrete feel about what we have been talking about:\n",
      "\n",
      "[Introduction to the terminal and the command line](http://openclassroom.stanford.edu/MainFolder/VideoPage.php?course=PracticalUnix&video=intro-shell&speed=100)"
     ]
    },
    {
     "cell_type": "markdown",
     "metadata": {},
     "source": [
      "The main tasks the Windowing System allow you to do with the filesystem are the following:\n",
      "\n",
      "1. naviguating the filesystem (i.e. going from one folder to the another one)\n",
      "1. modifying the filesystem (i.e. creating, deleting, copying, moving files around)\n",
      "1. accessing file content and launching programs\n",
      "1. finding files and programs\n",
      "\n",
      "We will now review how to perform these tasks with the terminal."
     ]
    },
    {
     "cell_type": "heading",
     "level": 2,
     "metadata": {},
     "source": [
      "Navigating the filesystem"
     ]
    },
    {
     "cell_type": "markdown",
     "metadata": {},
     "source": [
      "**Relevant commands:** \n",
      "\n",
      "* **ls**: list directory\n",
      "* **cd**: change directory\n",
      "* **pwd**: print working directory\n",
      "\n",
      "The location of a file or a directory in the filesystem is given by the path from the root (i.e. the hardrive folder) to this file or directory. The Unix convention is to separate the folder names (i.e. the nodes names) by a \"/\" and to omit the name of the root folder. For instance the path /Users/Benoit/Stat133 indicates the location of my Stat133 folder, and /Users/Benoit/Stat133/Stat133.html indicates the location on my filesystem of the webpage for the class. \n",
      "\n",
      "When you lauch a terminal, the terminal always operates from a given directory (called the **working directory**). This is very similar to what happens when you have a window opened in a Windowing System: the window represents a certain directory and if you create a file, it will be saved in this directory for example. \n",
      "\n",
      "The **pw** (print directory) command will give you the path (i.e. location) of your current working directory:\n"
     ]
    },
    {
     "cell_type": "code",
     "collapsed": false,
     "input": [
      "%%bash\n",
      "pwd"
     ],
     "language": "python",
     "metadata": {},
     "outputs": [
      {
       "output_type": "stream",
       "stream": "stdout",
       "text": [
        "/accounts/gen/guest/bdherin/Dropbox/Public/Stat133/NoteBooks\n"
       ]
      }
     ],
     "prompt_number": 4
    },
    {
     "cell_type": "markdown",
     "metadata": {},
     "source": [
      "The **ls** command will list the content of your current directory:"
     ]
    },
    {
     "cell_type": "code",
     "collapsed": false,
     "input": [
      "%%bash\n",
      "ls"
     ],
     "language": "python",
     "metadata": {},
     "outputs": [
      {
       "output_type": "stream",
       "stream": "stdout",
       "text": [
        "CH1.ipynb\n",
        "Introduction.ipynb\n",
        "MyTest\n",
        "drawing.png\n",
        "drawing.svg\n",
        "nb-slideshow-template-master\n",
        "notebook-slideshow-example.ipynb\n",
        "try.jpg\n"
       ]
      }
     ],
     "prompt_number": 5
    },
    {
     "cell_type": "markdown",
     "metadata": {},
     "source": [
      "The **cd** command will allow you to change your current directory and to navigate the file system. You need to specify the location (i.e. the path) of the directory you want to go to. Here you have to options:\n",
      "\n",
      "* give the **absolute path**\n",
      "* give the **relative path**\n",
      "\n",
      "to the cd command of the directory you want to change your working directory to. The absolute path is what we describe before, that is, the path in the filesystem tree from the root to the directory you want to go to. The relative path is the path to this director *from your current directory*. To form the relative path of a directory, you usually need to use to spcial *symbolic* paths:\n",
      "\n",
      "* a single dot \".\" is a \"symbolic name\" for the path to your current working directory\n",
      "* two dots \"..\" stands for the directory that is just above your current working directory\n",
      "\n",
      "A relative path is thus of the following form:\n",
      "\n",
      "* ../leon/freak   \n",
      "* ./strange_animals/raccoon\n",
      "\n",
      "The first relative path above indicates the location of the directory named \"\"freak\" which is in the directory \"leon\" just above my current working directory. While the second relative path indicates the location of the directory \"raccoon\" which is in the directory \"strange_animals\" contained in my current working directory.\n",
      "\n",
      "For instance, the command \"ls ..\" will list the content of the directory that contains your working directory"
     ]
    },
    {
     "cell_type": "code",
     "collapsed": false,
     "input": [
      "%%bash\n",
      "ls .."
     ],
     "language": "python",
     "metadata": {},
     "outputs": [
      {
       "output_type": "stream",
       "stream": "stdout",
       "text": [
        "Homeworks\n",
        "LectureTextBooks\n",
        "NoteBooks\n",
        "PythonBootCamp\n",
        "Stat133.html\n",
        "Stat133Fa12\n",
        "Stat133_files\n"
       ]
      }
     ],
     "prompt_number": 9
    },
    {
     "cell_type": "markdown",
     "metadata": {},
     "source": [
      "while the command \"ls .\" will list the content of your working directory (achieving thus the same effect as \"ls\"). "
     ]
    },
    {
     "cell_type": "code",
     "collapsed": false,
     "input": [
      "%%bash\n",
      "ls ."
     ],
     "language": "python",
     "metadata": {},
     "outputs": [
      {
       "output_type": "stream",
       "stream": "stdout",
       "text": [
        "CH1.ipynb\n",
        "Introduction.ipynb\n",
        "MyTest\n",
        "drawing.png\n",
        "drawing.svg\n",
        "nb-slideshow-template-master\n",
        "notebook-slideshow-example.ipynb\n",
        "try.jpg\n"
       ]
      }
     ],
     "prompt_number": 7
    },
    {
     "cell_type": "heading",
     "level": 2,
     "metadata": {},
     "source": [
      "Modifying the filesytem"
     ]
    },
    {
     "cell_type": "markdown",
     "metadata": {},
     "source": [
      "**Relevant commands:**\n",
      "\n",
      "* **touch**: create a file \n",
      "* **mkdir**: create (make) a directory\n",
      "* **rm**: delete (remove) a directory or a file\n",
      "* **cp**: copy a directory or a file\n",
      "* **mv**: move directory or a file\n",
      "* **chmod**: change (mode) the permissions of a file or a directory\n",
      "\n",
      "These commands, except maybe for the last one, are straightforward to understand and use. You should already be familiar with most of them if you watched the previous video. You'll find more details in Chapter 10 of the textbook: \n",
      "\n",
      "[Chapter 10. Working with files.](http://proquest.safaribooksonline.com/book/operating-systems-and-server-administration/unix/0596005954/working-with-files/shellsrptg-chp-10)\n",
      "\n",
      "To understand the persmission system and how to operate with it, it's now a good place to watch the following video:\n",
      "\n",
      "[Setting and checking file permissions](http://openclassroom.stanford.edu/MainFolder/VideoPage.php?course=PracticalUnix&video=permissions&speed=100)\n",
      "\n",
      "**To obtain detailed, but often cryptic information on most Unix command, you can always type \"man command_name\" in the the terminal.**"
     ]
    },
    {
     "cell_type": "heading",
     "level": 2,
     "metadata": {},
     "source": [
      "Finding files"
     ]
    },
    {
     "cell_type": "markdown",
     "metadata": {},
     "source": [
      "**Relevant commands:**\n",
      "\n",
      "* **find**\n",
      "* **locate**\n",
      "\n",
      "The commands \"find\" and \"locate\" allow you to look up files in the filesystem. \n",
      "\n",
      "The \"find\" comand requires a starting node (i.e. directory) in the filesystem to start the search from. It can look up files by name and permissions. \n",
      "\n",
      "The \"locate\" command doesn't need a starting directory to begin with; it will search the entire filesystem very rapidly for a file name containing a certain string of characters. \n",
      "\n",
      "These commands are very handy and powerful. Now it's a good time to watch how to make use of them:\n",
      "\n",
      "\n",
      "[Finding files on your computer with find and locate](http://openclassroom.stanford.edu/MainFolder/VideoPage.php?course=PracticalUnix&video=find&speed=100)\n"
     ]
    },
    {
     "cell_type": "heading",
     "level": 2,
     "metadata": {},
     "source": [
      "Accessing file content"
     ]
    },
    {
     "cell_type": "markdown",
     "metadata": {},
     "source": [
      "**Relevant commands:**\n",
      "\n",
      "* **cat**: (concatenate) display the content of a file\n",
      "* **head**: display the first lines of a file\n",
      "* **tail**: display the last lines of a file\n",
      "* **vi**: text editor"
     ]
    },
    {
     "cell_type": "markdown",
     "metadata": {},
     "source": [
      "The \"vi\" editor allows you to edit files. It is a very powerful editor, which I strongly encourage you to learn. The learning curve is quite steep, so be prepared. The following video and interative tutorial will help you greatly:\n",
      "\n",
      "[Introduction to Unix editors](http://openclassroom.stanford.edu/MainFolder/VideoPage.php?course=PracticalUnix&video=intro-text-editors&speed=100)\n",
      "\n",
      "[Interactive vi tutorial](http://www.openvim.com/tutorial.html)\n",
      "\n",
      "We will learn a bit more about cat, head, and tail in a class demo, where we will buil a simple chat system for the class."
     ]
    }
   ],
   "metadata": {}
  }
 ]
}
